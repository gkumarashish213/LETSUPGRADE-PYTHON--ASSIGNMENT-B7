{
 "cells": [
  {
   "cell_type": "markdown",
   "metadata": {},
   "source": [
    "# Print the first Amstrong number in the range of 1024000 to 702648265 and exit the loop as soon you encounter the first amstrong number.use while loop"
   ]
  },
  {
   "cell_type": "code",
   "execution_count": 1,
   "metadata": {},
   "outputs": [
    {
     "name": "stdout",
     "output_type": "stream",
     "text": [
      "The first amstrong number is: 1741725\n"
     ]
    }
   ],
   "source": [
    "upper = 702648264\n",
    "lower = 1024000\n",
    "for i in range(lower,upper+1):\n",
    "    o=len(str(i))\n",
    "    temp=i\n",
    "    sum=0\n",
    "    while temp!=0:\n",
    "        a=temp%10\n",
    "        sum+=a**o\n",
    "        temp//=10\n",
    "    if sum==i:\n",
    "        print(\"The first amstrong number is:\",i)"
   ]
  },
  {
   "cell_type": "code",
   "execution_count": null,
   "metadata": {},
   "outputs": [],
   "source": []
  }
 ],
 "metadata": {
  "kernelspec": {
   "display_name": "Python 3",
   "language": "python",
   "name": "python3"
  },
  "language_info": {
   "codemirror_mode": {
    "name": "ipython",
    "version": 3
   },
   "file_extension": ".py",
   "mimetype": "text/x-python",
   "name": "python",
   "nbconvert_exporter": "python",
   "pygments_lexer": "ipython3",
   "version": "3.7.4"
  }
 },
 "nbformat": 4,
 "nbformat_minor": 2
}
